{
 "cells": [
  {
   "cell_type": "markdown",
   "metadata": {},
   "source": [
    "Pytorch Crush Course"
   ]
  },
  {
   "cell_type": "code",
   "execution_count": 17,
   "metadata": {},
   "outputs": [],
   "source": [
    "import torch"
   ]
  },
  {
   "cell_type": "code",
   "execution_count": null,
   "metadata": {},
   "outputs": [
    {
     "data": {
      "text/plain": [
       "(tensor([0.]), 0.0, torch.float32, torch.Size([1]), torch.Size([1]), 1)"
      ]
     },
     "execution_count": 3,
     "metadata": {},
     "output_type": "execute_result"
    }
   ],
   "source": [
    "x = torch.empty(1) # scalar tensor \n",
    "x, x.item(), x.dtype, x.size(), x.shape, x.dim()"
   ]
  },
  {
   "cell_type": "code",
   "execution_count": 7,
   "metadata": {},
   "outputs": [
    {
     "data": {
      "text/plain": [
       "(tensor([0., 0., 0.]), torch.float32, torch.Size([3]), torch.Size([3]), 1)"
      ]
     },
     "execution_count": 7,
     "metadata": {},
     "output_type": "execute_result"
    }
   ],
   "source": [
    "x = torch.empty(3) # vector tensor\n",
    "x, x.dtype, x.size(), x.shape, x.dim()"
   ]
  },
  {
   "cell_type": "code",
   "execution_count": 11,
   "metadata": {},
   "outputs": [
    {
     "data": {
      "text/plain": [
       "(tensor([[0., 0., 0.],\n",
       "         [0., 0., 0.]]),\n",
       " torch.float32,\n",
       " torch.Size([2, 3]),\n",
       " torch.Size([2, 3]),\n",
       " 2,\n",
       " tensor(0.))"
      ]
     },
     "execution_count": 11,
     "metadata": {},
     "output_type": "execute_result"
    }
   ],
   "source": [
    "x = torch.empty(2, 3) # matrix tensor\n",
    "x, x.dtype, x.size(), x.shape, x.dim(), x[0, 0]"
   ]
  },
  {
   "cell_type": "code",
   "execution_count": 10,
   "metadata": {},
   "outputs": [
    {
     "data": {
      "text/plain": [
       "(tensor([[[0., 0., 0., 0.],\n",
       "          [0., 0., 0., 0.],\n",
       "          [0., 0., 0., 0.]],\n",
       " \n",
       "         [[0., 0., 0., 0.],\n",
       "          [0., 0., 0., 0.],\n",
       "          [0., 0., 0., 0.]]]),\n",
       " torch.float32,\n",
       " torch.Size([2, 3, 4]),\n",
       " torch.Size([2, 3, 4]),\n",
       " 3,\n",
       " 24)"
      ]
     },
     "execution_count": 10,
     "metadata": {},
     "output_type": "execute_result"
    }
   ],
   "source": [
    "x = torch.empty(2, 3, 4) # 3D tensor\n",
    "x, x.dtype, x.size(), x.shape, x.dim(), x.numel()"
   ]
  },
  {
   "cell_type": "code",
   "execution_count": 13,
   "metadata": {},
   "outputs": [
    {
     "data": {
      "text/plain": [
       "(tensor([[[[0., 0., 0., 0., 0.],\n",
       "           [0., 0., 0., 0., 0.],\n",
       "           [0., 0., 0., 0., 0.]],\n",
       " \n",
       "          [[0., 0., 0., 0., 0.],\n",
       "           [0., 0., 0., 0., 0.],\n",
       "           [0., 0., 0., 0., 0.]]],\n",
       " \n",
       " \n",
       "         [[[0., 0., 0., 0., 0.],\n",
       "           [0., 0., 0., 0., 0.],\n",
       "           [0., 0., 0., 0., 0.]],\n",
       " \n",
       "          [[0., 0., 0., 0., 0.],\n",
       "           [0., 0., 0., 0., 0.],\n",
       "           [0., 0., 0., 0., 0.]]]]),\n",
       " torch.float32,\n",
       " torch.Size([2, 2, 3, 5]),\n",
       " torch.Size([2, 2, 3, 5]),\n",
       " 4,\n",
       " 60)"
      ]
     },
     "execution_count": 13,
     "metadata": {},
     "output_type": "execute_result"
    }
   ],
   "source": [
    "x = torch.empty(2, 2, 3, 5) # 4D tensor\n",
    "x, x.dtype, x.size(), x.shape, x.dim(), x.numel()\n"
   ]
  },
  {
   "cell_type": "code",
   "execution_count": 16,
   "metadata": {},
   "outputs": [
    {
     "data": {
      "text/plain": [
       "(tensor([[0.9720, 0.3762, 0.6029],\n",
       "         [0.7080, 0.3159, 0.8013]]),\n",
       " torch.Size([2, 3]),\n",
       " torch.Size([2, 3]),\n",
       " 2,\n",
       " 6)"
      ]
     },
     "execution_count": 16,
     "metadata": {},
     "output_type": "execute_result"
    }
   ],
   "source": [
    "x = torch.rand(2, 3) # random tensor\n",
    "x, x.size(), x.shape, x.dim(), x.numel()"
   ]
  }
 ],
 "metadata": {
  "kernelspec": {
   "display_name": "pytorch_env",
   "language": "python",
   "name": "python3"
  },
  "language_info": {
   "codemirror_mode": {
    "name": "ipython",
    "version": 3
   },
   "file_extension": ".py",
   "mimetype": "text/x-python",
   "name": "python",
   "nbconvert_exporter": "python",
   "pygments_lexer": "ipython3",
   "version": "3.9.20"
  }
 },
 "nbformat": 4,
 "nbformat_minor": 4
}
