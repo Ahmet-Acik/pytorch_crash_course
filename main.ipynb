{
 "cells": [
  {
   "cell_type": "markdown",
   "metadata": {},
   "source": [
    "Pytorch Crush Course"
   ]
  },
  {
   "cell_type": "markdown",
   "metadata": {},
   "source": [
    "\n",
    "# PyTorch \n",
    "\n",
    "PyTorch provides a wide range of methods for tensor operations, neural network construction, and training. \n",
    "\n",
    "# Tensor Operations\n",
    "\n",
    "Here are some of the most commonly used PyTorch Operation methods:\n",
    "\n",
    "## 1. Creating Tensors:\n",
    "\n",
    "- torch.tensor(data): Creates a tensor from data.\n",
    "\n",
    "- torch.zeros(size): Creates a tensor filled with zeros.\n",
    "\n",
    "- torch.ones(size): Creates a tensor filled with ones.\n",
    "\n",
    "- torch.empty(size): Creates an uninitialized tensor.\n",
    "\n",
    "- torch.arange(start, end, step): Creates a 1D tensor with values from start to end with a step.\n",
    "\n",
    "- torch.linspace(start, end, steps): Creates a 1D tensor with values linearly spaced between start and end."
   ]
  },
  {
   "cell_type": "code",
   "execution_count": 17,
   "metadata": {},
   "outputs": [],
   "source": [
    "import torch"
   ]
  },
  {
   "cell_type": "code",
   "execution_count": null,
   "metadata": {},
   "outputs": [
    {
     "data": {
      "text/plain": [
       "(tensor([0.]), 0.0, torch.float32, torch.Size([1]), torch.Size([1]), 1)"
      ]
     },
     "execution_count": 3,
     "metadata": {},
     "output_type": "execute_result"
    }
   ],
   "source": [
    "x = torch.empty(1) # scalar tensor \n",
    "x, x.item(), x.dtype, x.size(), x.shape, x.dim()"
   ]
  },
  {
   "cell_type": "code",
   "execution_count": 7,
   "metadata": {},
   "outputs": [
    {
     "data": {
      "text/plain": [
       "(tensor([0., 0., 0.]), torch.float32, torch.Size([3]), torch.Size([3]), 1)"
      ]
     },
     "execution_count": 7,
     "metadata": {},
     "output_type": "execute_result"
    }
   ],
   "source": [
    "x = torch.empty(3) # vector tensor\n",
    "x, x.dtype, x.size(), x.shape, x.dim()"
   ]
  },
  {
   "cell_type": "code",
   "execution_count": 11,
   "metadata": {},
   "outputs": [
    {
     "data": {
      "text/plain": [
       "(tensor([[0., 0., 0.],\n",
       "         [0., 0., 0.]]),\n",
       " torch.float32,\n",
       " torch.Size([2, 3]),\n",
       " torch.Size([2, 3]),\n",
       " 2,\n",
       " tensor(0.))"
      ]
     },
     "execution_count": 11,
     "metadata": {},
     "output_type": "execute_result"
    }
   ],
   "source": [
    "x = torch.empty(2, 3) # matrix tensor\n",
    "x, x.dtype, x.size(), x.shape, x.dim(), x[0, 0]"
   ]
  },
  {
   "cell_type": "code",
   "execution_count": 10,
   "metadata": {},
   "outputs": [
    {
     "data": {
      "text/plain": [
       "(tensor([[[0., 0., 0., 0.],\n",
       "          [0., 0., 0., 0.],\n",
       "          [0., 0., 0., 0.]],\n",
       " \n",
       "         [[0., 0., 0., 0.],\n",
       "          [0., 0., 0., 0.],\n",
       "          [0., 0., 0., 0.]]]),\n",
       " torch.float32,\n",
       " torch.Size([2, 3, 4]),\n",
       " torch.Size([2, 3, 4]),\n",
       " 3,\n",
       " 24)"
      ]
     },
     "execution_count": 10,
     "metadata": {},
     "output_type": "execute_result"
    }
   ],
   "source": [
    "x = torch.empty(2, 3, 4) # 3D tensor\n",
    "x, x.dtype, x.size(), x.shape, x.dim(), x.numel()"
   ]
  },
  {
   "cell_type": "code",
   "execution_count": 13,
   "metadata": {},
   "outputs": [
    {
     "data": {
      "text/plain": [
       "(tensor([[[[0., 0., 0., 0., 0.],\n",
       "           [0., 0., 0., 0., 0.],\n",
       "           [0., 0., 0., 0., 0.]],\n",
       " \n",
       "          [[0., 0., 0., 0., 0.],\n",
       "           [0., 0., 0., 0., 0.],\n",
       "           [0., 0., 0., 0., 0.]]],\n",
       " \n",
       " \n",
       "         [[[0., 0., 0., 0., 0.],\n",
       "           [0., 0., 0., 0., 0.],\n",
       "           [0., 0., 0., 0., 0.]],\n",
       " \n",
       "          [[0., 0., 0., 0., 0.],\n",
       "           [0., 0., 0., 0., 0.],\n",
       "           [0., 0., 0., 0., 0.]]]]),\n",
       " torch.float32,\n",
       " torch.Size([2, 2, 3, 5]),\n",
       " torch.Size([2, 2, 3, 5]),\n",
       " 4,\n",
       " 60)"
      ]
     },
     "execution_count": 13,
     "metadata": {},
     "output_type": "execute_result"
    }
   ],
   "source": [
    "x = torch.empty(2, 2, 3, 5) # 4D tensor\n",
    "x, x.dtype, x.size(), x.shape, x.dim(), x.numel()\n"
   ]
  },
  {
   "cell_type": "code",
   "execution_count": 16,
   "metadata": {},
   "outputs": [
    {
     "data": {
      "text/plain": [
       "(tensor([[0.9720, 0.3762, 0.6029],\n",
       "         [0.7080, 0.3159, 0.8013]]),\n",
       " torch.Size([2, 3]),\n",
       " torch.Size([2, 3]),\n",
       " 2,\n",
       " 6)"
      ]
     },
     "execution_count": 16,
     "metadata": {},
     "output_type": "execute_result"
    }
   ],
   "source": [
    "x = torch.rand(2, 3) # random tensor\n",
    "x, x.size(), x.shape, x.dim(), x.numel()"
   ]
  },
  {
   "cell_type": "code",
   "execution_count": 18,
   "metadata": {},
   "outputs": [
    {
     "data": {
      "text/plain": [
       "(tensor([[0., 0., 0.],\n",
       "         [0., 0., 0.]]),\n",
       " torch.Size([2, 3]),\n",
       " torch.Size([2, 3]),\n",
       " 2,\n",
       " 6)"
      ]
     },
     "execution_count": 18,
     "metadata": {},
     "output_type": "execute_result"
    }
   ],
   "source": [
    "x = torch.zeros(2, 3) # zero tensor\n",
    "x, x.size(), x.shape, x.dim(), x.numel()"
   ]
  },
  {
   "cell_type": "code",
   "execution_count": 19,
   "metadata": {},
   "outputs": [
    {
     "data": {
      "text/plain": [
       "(tensor([[1., 1., 1.],\n",
       "         [1., 1., 1.]]),\n",
       " torch.Size([2, 3]),\n",
       " torch.Size([2, 3]),\n",
       " 2,\n",
       " 6)"
      ]
     },
     "execution_count": 19,
     "metadata": {},
     "output_type": "execute_result"
    }
   ],
   "source": [
    "x = torch.ones(2, 3) # ones tensor\n",
    "x, x.size(), x.shape, x.dim(), x.numel()"
   ]
  },
  {
   "cell_type": "code",
   "execution_count": null,
   "metadata": {},
   "outputs": [],
   "source": []
  },
  {
   "cell_type": "markdown",
   "metadata": {},
   "source": [
    "## 2. Tensor Manipulation:\n",
    "\n",
    "- tensor.view(shape): Reshapes a tensor.\n",
    "\n",
    "- tensor.reshape(shape): Reshapes a tensor.\n",
    "\n",
    "- tensor.transpose(dim0, dim1): Transposes dimensions of a tensor.\n",
    "\n",
    "- tensor.permute(dims): Permutes the dimensions of a tensor.\n",
    "\n",
    "- tensor.unsqueeze(dim): Adds a dimension to a tensor.\n",
    "\n",
    "- tensor.squeeze(dim): Removes a dimension from a tensor."
   ]
  },
  {
   "cell_type": "code",
   "execution_count": 20,
   "metadata": {},
   "outputs": [
    {
     "data": {
      "text/plain": [
       "(tensor([[1., 1., 1.],\n",
       "         [1., 1., 1.]]),)"
      ]
     },
     "execution_count": 20,
     "metadata": {},
     "output_type": "execute_result"
    }
   ],
   "source": [
    "z = x.view(2, 3) # reshape tensor\n",
    "z,"
   ]
  },
  {
   "cell_type": "code",
   "execution_count": null,
   "metadata": {},
   "outputs": [],
   "source": []
  },
  {
   "cell_type": "markdown",
   "metadata": {},
   "source": [
    "## 3. Mathematical Operations:\n",
    "\n",
    "- torch.add(tensor1, tensor2): Element-wise addition.\n",
    "\n",
    "- torch.sub(tensor1, tensor2): Element-wise subtraction.\n",
    "\n",
    "- torch.mul(tensor1, tensor2): Element-wise multiplication.\n",
    "\n",
    "- torch.div(tensor1, tensor2): Element-wise division.\n",
    "\n",
    "- torch.matmul(tensor1, tensor2): Matrix multiplication.\n",
    "\n",
    "- torch.sum(tensor, dim): Sums elements of a tensor along a dimension.\n",
    "\n",
    "- torch.mean(tensor, dim): Computes the mean of elements along a dimension.\n",
    "\n",
    "- torch.max(tensor, dim): Returns the maximum value along a dimension.\n",
    "\n",
    "- torch.min(tensor, dim): Returns the minimum value along a dimension."
   ]
  },
  {
   "cell_type": "code",
   "execution_count": null,
   "metadata": {},
   "outputs": [],
   "source": []
  },
  {
   "cell_type": "code",
   "execution_count": null,
   "metadata": {},
   "outputs": [],
   "source": []
  },
  {
   "cell_type": "markdown",
   "metadata": {},
   "source": [
    "# Neural Network Construction\n",
    "\n",
    "## 1. Defining Layers:\n",
    "\n",
    "- torch.nn.Linear(in_features, out_features): Fully connected layer.\n",
    "\n",
    "- torch.nn.Conv2d(in_channels, out_channels, kernel_size): 2D convolutional layer.\n",
    "\n",
    "- torch.nn.MaxPool2d(kernel_size): 2D max pooling layer.\n",
    "\n",
    "- torch.nn.ReLU(): ReLU activation function.\n",
    "\n",
    "- torch.nn.Sigmoid(): Sigmoid activation function.\n",
    "\n",
    "- torch.nn.Tanh(): Tanh activation function.\n",
    "\n",
    "- torch.nn.Dropout(p): Dropout layer."
   ]
  },
  {
   "cell_type": "code",
   "execution_count": null,
   "metadata": {},
   "outputs": [],
   "source": []
  },
  {
   "cell_type": "code",
   "execution_count": null,
   "metadata": {},
   "outputs": [],
   "source": []
  },
  {
   "cell_type": "markdown",
   "metadata": {},
   "source": [
    "## 2. Loss Functions:\n",
    "\n",
    "- torch.nn.CrossEntropyLoss(): Cross-entropy loss for classification.\n",
    "\n",
    "- torch.nn.MSELoss(): Mean squared error loss for regression.\n",
    "\n",
    "- torch.nn.BCELoss(): Binary cross-entropy loss."
   ]
  },
  {
   "cell_type": "code",
   "execution_count": null,
   "metadata": {},
   "outputs": [],
   "source": []
  },
  {
   "cell_type": "code",
   "execution_count": null,
   "metadata": {},
   "outputs": [],
   "source": []
  },
  {
   "cell_type": "markdown",
   "metadata": {},
   "source": [
    "## 3. Optimizers:\n",
    "\n",
    "- torch.optim.SGD(params, lr): Stochastic gradient descent optimizer.\n",
    "\n",
    "- torch.optim.Adam(params, lr): Adam optimizer.\n",
    "\n",
    "- torch.optim.RMSprop(params, lr): RMSprop optimizer."
   ]
  },
  {
   "cell_type": "code",
   "execution_count": null,
   "metadata": {},
   "outputs": [],
   "source": []
  },
  {
   "cell_type": "code",
   "execution_count": null,
   "metadata": {},
   "outputs": [],
   "source": []
  },
  {
   "cell_type": "markdown",
   "metadata": {},
   "source": [
    "## Training and Evaluation\n",
    "\n",
    "## 1. Training Loop:\n",
    "\n",
    "- optimizer.zero_grad(): Clears old gradients.\n",
    "\n",
    "- loss.backward(): Computes the gradient of the loss.\n",
    "\n",
    "- optimizer.step(): Updates the model parameters."
   ]
  },
  {
   "cell_type": "code",
   "execution_count": null,
   "metadata": {},
   "outputs": [],
   "source": []
  },
  {
   "cell_type": "code",
   "execution_count": null,
   "metadata": {},
   "outputs": [],
   "source": []
  },
  {
   "cell_type": "markdown",
   "metadata": {},
   "source": [
    "## 2. Evaluation:\n",
    "\n",
    "- model.eval(): Sets the model to evaluation mode.\n",
    "\n",
    "- model.train(): Sets the model to training mode.\n",
    "\n",
    "- torch.no_grad(): Context manager to disable gradient calculation."
   ]
  },
  {
   "cell_type": "code",
   "execution_count": null,
   "metadata": {},
   "outputs": [],
   "source": []
  }
 ],
 "metadata": {
  "kernelspec": {
   "display_name": "pytorch_env",
   "language": "python",
   "name": "python3"
  },
  "language_info": {
   "codemirror_mode": {
    "name": "ipython",
    "version": 3
   },
   "file_extension": ".py",
   "mimetype": "text/x-python",
   "name": "python",
   "nbconvert_exporter": "python",
   "pygments_lexer": "ipython3",
   "version": "3.9.20"
  }
 },
 "nbformat": 4,
 "nbformat_minor": 4
}
